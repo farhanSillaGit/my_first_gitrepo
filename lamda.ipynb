{
 "cells": [
  {
   "cell_type": "code",
   "execution_count": 4,
   "id": "7f99d682",
   "metadata": {},
   "outputs": [
    {
     "name": "stdout",
     "output_type": "stream",
     "text": [
      "16\n"
     ]
    }
   ],
   "source": [
    "# lambda is shortage of function\n",
    "sqr=lambda x:x*x\n",
    "print(sqr(4))"
   ]
  },
  {
   "cell_type": "code",
   "execution_count": 5,
   "id": "da69a501",
   "metadata": {},
   "outputs": [
    {
     "name": "stdout",
     "output_type": "stream",
     "text": [
      "20\n"
     ]
    }
   ],
   "source": [
    "add=lambda x,y:x+y\n",
    "print(add(19,1))"
   ]
  },
  {
   "cell_type": "code",
   "execution_count": 11,
   "id": "85780cfc",
   "metadata": {},
   "outputs": [
    {
     "name": "stdout",
     "output_type": "stream",
     "text": [
      "enter length of rectangle2\n",
      "enter breadth of rectangle3\n",
      "area  6\n",
      "perimeter 10\n"
     ]
    }
   ],
   "source": [
    "#area of rectangle area=l*b\n",
    "area=lambda l,b:l*b\n",
    "#perimeter of rectangle p=2(l+b)\n",
    "perimeter=lambda l,b:2*(l+b)\n",
    "x=int(input(\"enter length of rectangle\"))\n",
    "y=int(input(\"enter breadth of rectangle\"))\n",
    "print(\"area \",area(x,y))\n",
    "print(\"perimeter\",perimeter(x,y))"
   ]
  },
  {
   "cell_type": "code",
   "execution_count": null,
   "id": "1529e0b7",
   "metadata": {},
   "outputs": [],
   "source": []
  }
 ],
 "metadata": {
  "kernelspec": {
   "display_name": "Python 3 (ipykernel)",
   "language": "python",
   "name": "python3"
  },
  "language_info": {
   "codemirror_mode": {
    "name": "ipython",
    "version": 3
   },
   "file_extension": ".py",
   "mimetype": "text/x-python",
   "name": "python",
   "nbconvert_exporter": "python",
   "pygments_lexer": "ipython3",
   "version": "3.9.13"
  }
 },
 "nbformat": 4,
 "nbformat_minor": 5
}
